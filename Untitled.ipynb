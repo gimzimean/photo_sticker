{
 "cells": [
  {
   "cell_type": "code",
   "execution_count": 1,
   "metadata": {},
   "outputs": [
    {
     "ename": "ModuleNotFoundError",
     "evalue": "No module named 'dlib'",
     "output_type": "error",
     "traceback": [
      "\u001b[1;31m---------------------------------------------------------------------------\u001b[0m",
      "\u001b[1;31mModuleNotFoundError\u001b[0m                       Traceback (most recent call last)",
      "\u001b[1;32m<ipython-input-1-c59aa4520df7>\u001b[0m in \u001b[0;36m<module>\u001b[1;34m\u001b[0m\n\u001b[1;32m----> 1\u001b[1;33m \u001b[1;32mimport\u001b[0m \u001b[0mcv2\u001b[0m\u001b[1;33m,\u001b[0m \u001b[0mdlib\u001b[0m\u001b[1;33m,\u001b[0m \u001b[0msys\u001b[0m\u001b[1;33m\u001b[0m\u001b[1;33m\u001b[0m\u001b[0m\n\u001b[0m\u001b[0;32m      2\u001b[0m \u001b[1;32mimport\u001b[0m \u001b[0mnumpy\u001b[0m \u001b[1;32mas\u001b[0m \u001b[0mnp\u001b[0m\u001b[1;33m\u001b[0m\u001b[1;33m\u001b[0m\u001b[0m\n",
      "\u001b[1;31mModuleNotFoundError\u001b[0m: No module named 'dlib'"
     ]
    }
   ],
   "source": [
    "import cv2, dlib, sys\n",
    "import numpy as np\n"
   ]
  },
  {
   "cell_type": "code",
   "execution_count": 2,
   "metadata": {},
   "outputs": [
    {
     "name": "stdout",
     "output_type": "stream",
     "text": [
      "Collecting dlib\n",
      "  Using cached https://files.pythonhosted.org/packages/f1/40/e407366816646bb452578997e6ca2140f004eec8f611e8512ee429ded2be/dlib-19.20.0.tar.gz\n",
      "Building wheels for collected packages: dlib\n",
      "  Running setup.py bdist_wheel for dlib: started\n",
      "  Running setup.py bdist_wheel for dlib: finished with status 'error'\n",
      "  Complete output from command c:\\users\\user\\appdata\\local\\programs\\python\\python37\\python.exe -u -c \"import setuptools, tokenize;__file__='C:\\\\Users\\\\user\\\\AppData\\\\Local\\\\Temp\\\\pip-install-q1s0r7v8\\\\dlib\\\\setup.py';f=getattr(tokenize, 'open', open)(__file__);code=f.read().replace('\\r\\n', '\\n');f.close();exec(compile(code, __file__, 'exec'))\" bdist_wheel -d C:\\Users\\user\\AppData\\Local\\Temp\\pip-wheel-ersz9wxs --python-tag cp37:\n",
      "  running bdist_wheel\n",
      "  running build\n",
      "  running build_py\n",
      "  package init file 'dlib\\__init__.py' not found (or not a regular file)\n",
      "  running build_ext\n",
      "  Traceback (most recent call last):\n",
      "    File \"C:\\Users\\user\\AppData\\Local\\Temp\\pip-install-q1s0r7v8\\dlib\\setup.py\", line 120, in get_cmake_version\n",
      "      out = subprocess.check_output(['cmake', '--version'])\n",
      "    File \"c:\\users\\user\\appdata\\local\\programs\\python\\python37\\lib\\subprocess.py\", line 395, in check_output\n",
      "      **kwargs).stdout\n",
      "    File \"c:\\users\\user\\appdata\\local\\programs\\python\\python37\\lib\\subprocess.py\", line 472, in run\n",
      "      with Popen(*popenargs, **kwargs) as process:\n",
      "    File \"c:\\users\\user\\appdata\\local\\programs\\python\\python37\\lib\\subprocess.py\", line 775, in __init__\n",
      "      restore_signals, start_new_session)\n",
      "    File \"c:\\users\\user\\appdata\\local\\programs\\python\\python37\\lib\\subprocess.py\", line 1178, in _execute_child\n",
      "      startupinfo)\n",
      "  FileNotFoundError: [WinError 2] 지정된 파일을 찾을 수 없습니다\n",
      "  \n",
      "  During handling of the above exception, another exception occurred:\n",
      "  \n",
      "  Traceback (most recent call last):\n",
      "    File \"<string>\", line 1, in <module>\n",
      "    File \"C:\\Users\\user\\AppData\\Local\\Temp\\pip-install-q1s0r7v8\\dlib\\setup.py\", line 261, in <module>\n",
      "      'Topic :: Software Development',\n",
      "    File \"c:\\users\\user\\appdata\\local\\programs\\python\\python37\\lib\\site-packages\\setuptools\\__init__.py\", line 144, in setup\n",
      "      return distutils.core.setup(**attrs)\n",
      "    File \"c:\\users\\user\\appdata\\local\\programs\\python\\python37\\lib\\distutils\\core.py\", line 148, in setup\n",
      "      dist.run_commands()\n",
      "    File \"c:\\users\\user\\appdata\\local\\programs\\python\\python37\\lib\\distutils\\dist.py\", line 966, in run_commands\n",
      "      self.run_command(cmd)\n",
      "    File \"c:\\users\\user\\appdata\\local\\programs\\python\\python37\\lib\\distutils\\dist.py\", line 985, in run_command\n",
      "      cmd_obj.run()\n",
      "    File \"c:\\users\\user\\appdata\\local\\programs\\python\\python37\\lib\\site-packages\\wheel\\bdist_wheel.py\", line 223, in run\n",
      "      self.run_command('build')\n",
      "    File \"c:\\users\\user\\appdata\\local\\programs\\python\\python37\\lib\\distutils\\cmd.py\", line 313, in run_command\n",
      "      self.distribution.run_command(command)\n",
      "    File \"c:\\users\\user\\appdata\\local\\programs\\python\\python37\\lib\\distutils\\dist.py\", line 985, in run_command\n",
      "      cmd_obj.run()\n",
      "    File \"c:\\users\\user\\appdata\\local\\programs\\python\\python37\\lib\\distutils\\command\\build.py\", line 135, in run\n",
      "      self.run_command(cmd_name)\n",
      "    File \"c:\\users\\user\\appdata\\local\\programs\\python\\python37\\lib\\distutils\\cmd.py\", line 313, in run_command\n",
      "      self.distribution.run_command(command)\n",
      "    File \"c:\\users\\user\\appdata\\local\\programs\\python\\python37\\lib\\distutils\\dist.py\", line 985, in run_command\n",
      "      cmd_obj.run()\n",
      "    File \"C:\\Users\\user\\AppData\\Local\\Temp\\pip-install-q1s0r7v8\\dlib\\setup.py\", line 129, in run\n",
      "      cmake_version = self.get_cmake_version()\n",
      "    File \"C:\\Users\\user\\AppData\\Local\\Temp\\pip-install-q1s0r7v8\\dlib\\setup.py\", line 125, in get_cmake_version\n",
      "      \"\\n*******************************************************************\\n\")\n",
      "  RuntimeError:\n",
      "  *******************************************************************\n",
      "   CMake must be installed to build the following extensions: dlib\n",
      "  *******************************************************************\n",
      "  \n",
      "  \n",
      "  ----------------------------------------\n",
      "  Running setup.py clean for dlib\n",
      "Failed to build dlib\n",
      "Installing collected packages: dlib\n",
      "  Running setup.py install for dlib: started\n",
      "    Running setup.py install for dlib: finished with status 'error'\n",
      "    Complete output from command c:\\users\\user\\appdata\\local\\programs\\python\\python37\\python.exe -u -c \"import setuptools, tokenize;__file__='C:\\\\Users\\\\user\\\\AppData\\\\Local\\\\Temp\\\\pip-install-q1s0r7v8\\\\dlib\\\\setup.py';f=getattr(tokenize, 'open', open)(__file__);code=f.read().replace('\\r\\n', '\\n');f.close();exec(compile(code, __file__, 'exec'))\" install --record C:\\Users\\user\\AppData\\Local\\Temp\\pip-record-0l4hz2o4\\install-record.txt --single-version-externally-managed --compile:\n",
      "    running install\n",
      "    running build\n",
      "    running build_py\n",
      "    package init file 'dlib\\__init__.py' not found (or not a regular file)\n",
      "    running build_ext\n",
      "    Traceback (most recent call last):\n",
      "      File \"C:\\Users\\user\\AppData\\Local\\Temp\\pip-install-q1s0r7v8\\dlib\\setup.py\", line 120, in get_cmake_version\n",
      "        out = subprocess.check_output(['cmake', '--version'])\n",
      "      File \"c:\\users\\user\\appdata\\local\\programs\\python\\python37\\lib\\subprocess.py\", line 395, in check_output\n",
      "        **kwargs).stdout\n",
      "      File \"c:\\users\\user\\appdata\\local\\programs\\python\\python37\\lib\\subprocess.py\", line 472, in run\n",
      "        with Popen(*popenargs, **kwargs) as process:\n",
      "      File \"c:\\users\\user\\appdata\\local\\programs\\python\\python37\\lib\\subprocess.py\", line 775, in __init__\n",
      "        restore_signals, start_new_session)\n",
      "      File \"c:\\users\\user\\appdata\\local\\programs\\python\\python37\\lib\\subprocess.py\", line 1178, in _execute_child\n",
      "        startupinfo)\n",
      "    FileNotFoundError: [WinError 2] 지정된 파일을 찾을 수 없습니다\n",
      "    \n",
      "    During handling of the above exception, another exception occurred:\n",
      "    \n",
      "    Traceback (most recent call last):\n",
      "      File \"<string>\", line 1, in <module>\n",
      "      File \"C:\\Users\\user\\AppData\\Local\\Temp\\pip-install-q1s0r7v8\\dlib\\setup.py\", line 261, in <module>\n",
      "        'Topic :: Software Development',\n",
      "      File \"c:\\users\\user\\appdata\\local\\programs\\python\\python37\\lib\\site-packages\\setuptools\\__init__.py\", line 144, in setup\n",
      "        return distutils.core.setup(**attrs)\n",
      "      File \"c:\\users\\user\\appdata\\local\\programs\\python\\python37\\lib\\distutils\\core.py\", line 148, in setup\n",
      "        dist.run_commands()\n",
      "      File \"c:\\users\\user\\appdata\\local\\programs\\python\\python37\\lib\\distutils\\dist.py\", line 966, in run_commands\n",
      "        self.run_command(cmd)\n",
      "      File \"c:\\users\\user\\appdata\\local\\programs\\python\\python37\\lib\\distutils\\dist.py\", line 985, in run_command\n",
      "        cmd_obj.run()\n",
      "      File \"c:\\users\\user\\appdata\\local\\programs\\python\\python37\\lib\\site-packages\\setuptools\\command\\install.py\", line 61, in run\n",
      "        return orig.install.run(self)\n",
      "      File \"c:\\users\\user\\appdata\\local\\programs\\python\\python37\\lib\\distutils\\command\\install.py\", line 545, in run\n",
      "        self.run_command('build')\n",
      "      File \"c:\\users\\user\\appdata\\local\\programs\\python\\python37\\lib\\distutils\\cmd.py\", line 313, in run_command\n",
      "        self.distribution.run_command(command)\n",
      "      File \"c:\\users\\user\\appdata\\local\\programs\\python\\python37\\lib\\distutils\\dist.py\", line 985, in run_command\n",
      "        cmd_obj.run()\n",
      "      File \"c:\\users\\user\\appdata\\local\\programs\\python\\python37\\lib\\distutils\\command\\build.py\", line 135, in run\n",
      "        self.run_command(cmd_name)\n",
      "      File \"c:\\users\\user\\appdata\\local\\programs\\python\\python37\\lib\\distutils\\cmd.py\", line 313, in run_command\n",
      "        self.distribution.run_command(command)\n",
      "      File \"c:\\users\\user\\appdata\\local\\programs\\python\\python37\\lib\\distutils\\dist.py\", line 985, in run_command\n",
      "        cmd_obj.run()\n",
      "      File \"C:\\Users\\user\\AppData\\Local\\Temp\\pip-install-q1s0r7v8\\dlib\\setup.py\", line 129, in run\n",
      "        cmake_version = self.get_cmake_version()\n",
      "      File \"C:\\Users\\user\\AppData\\Local\\Temp\\pip-install-q1s0r7v8\\dlib\\setup.py\", line 125, in get_cmake_version\n",
      "        \"\\n*******************************************************************\\n\")\n",
      "    RuntimeError:\n",
      "    *******************************************************************\n",
      "     CMake must be installed to build the following extensions: dlib\n",
      "    *******************************************************************\n",
      "    \n",
      "    \n",
      "    ----------------------------------------\n",
      "Note: you may need to restart the kernel to use updated packages.\n"
     ]
    },
    {
     "name": "stderr",
     "output_type": "stream",
     "text": [
      "  Failed building wheel for dlib\n",
      "Command \"c:\\users\\user\\appdata\\local\\programs\\python\\python37\\python.exe -u -c \"import setuptools, tokenize;__file__='C:\\\\Users\\\\user\\\\AppData\\\\Local\\\\Temp\\\\pip-install-q1s0r7v8\\\\dlib\\\\setup.py';f=getattr(tokenize, 'open', open)(__file__);code=f.read().replace('\\r\\n', '\\n');f.close();exec(compile(code, __file__, 'exec'))\" install --record C:\\Users\\user\\AppData\\Local\\Temp\\pip-record-0l4hz2o4\\install-record.txt --single-version-externally-managed --compile\" failed with error code 1 in C:\\Users\\user\\AppData\\Local\\Temp\\pip-install-q1s0r7v8\\dlib\\\n",
      "You are using pip version 18.1, however version 20.2b1 is available.\n",
      "You should consider upgrading via the 'python -m pip install --upgrade pip' command.\n"
     ]
    }
   ],
   "source": [
    "pip install dlib\n"
   ]
  },
  {
   "cell_type": "code",
   "execution_count": 3,
   "metadata": {},
   "outputs": [
    {
     "ename": "SyntaxError",
     "evalue": "invalid syntax (<ipython-input-3-0a8cf7b99133>, line 1)",
     "output_type": "error",
     "traceback": [
      "\u001b[1;36m  File \u001b[1;32m\"<ipython-input-3-0a8cf7b99133>\"\u001b[1;36m, line \u001b[1;32m1\u001b[0m\n\u001b[1;33m    python -m pip install --upgrade pip\u001b[0m\n\u001b[1;37m                ^\u001b[0m\n\u001b[1;31mSyntaxError\u001b[0m\u001b[1;31m:\u001b[0m invalid syntax\n"
     ]
    }
   ],
   "source": [
    "python -m pip install --upgrade pip\n"
   ]
  },
  {
   "cell_type": "code",
   "execution_count": null,
   "metadata": {},
   "outputs": [],
   "source": []
  }
 ],
 "metadata": {
  "kernelspec": {
   "display_name": "Python 3",
   "language": "python",
   "name": "python3"
  },
  "language_info": {
   "codemirror_mode": {
    "name": "ipython",
    "version": 3
   },
   "file_extension": ".py",
   "mimetype": "text/x-python",
   "name": "python",
   "nbconvert_exporter": "python",
   "pygments_lexer": "ipython3",
   "version": "3.7.2"
  }
 },
 "nbformat": 4,
 "nbformat_minor": 4
}
